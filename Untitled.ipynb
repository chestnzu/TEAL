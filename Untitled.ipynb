{
 "cells": [
  {
   "cell_type": "code",
   "execution_count": 4,
   "id": "ebf9f3bb",
   "metadata": {},
   "outputs": [],
   "source": [
    "from enrichment_analysis import *\n",
    "from enrichment_visualization import *\n",
    "from computing_similarity_modified import *"
   ]
  },
  {
   "cell_type": "code",
   "execution_count": 7,
   "id": "796335d7",
   "metadata": {},
   "outputs": [],
   "source": [
    "import sys\n",
    "import argparse"
   ]
  },
  {
   "cell_type": "code",
   "execution_count": 10,
   "id": "683c32f1",
   "metadata": {},
   "outputs": [
    {
     "ename": "ValueError",
     "evalue": "invalid option string 'type1': must start with a character '-'",
     "output_type": "error",
     "traceback": [
      "\u001b[0;31m---------------------------------------------------------------------------\u001b[0m",
      "\u001b[0;31mValueError\u001b[0m                                Traceback (most recent call last)",
      "Cell \u001b[0;32mIn[10], line 2\u001b[0m\n\u001b[1;32m      1\u001b[0m parser\u001b[38;5;241m=\u001b[39margparse\u001b[38;5;241m.\u001b[39mArgumentParser()\n\u001b[0;32m----> 2\u001b[0m \u001b[43mparser\u001b[49m\u001b[38;5;241;43m.\u001b[39;49m\u001b[43madd_argument\u001b[49m\u001b[43m(\u001b[49m\u001b[38;5;124;43m'\u001b[39;49m\u001b[38;5;124;43mtype1\u001b[39;49m\u001b[38;5;124;43m'\u001b[39;49m\u001b[43m,\u001b[49m\u001b[38;5;28;43mtype\u001b[39;49m\u001b[38;5;241;43m==\u001b[39;49m\u001b[38;5;28;43mstr\u001b[39;49m\u001b[43m,\u001b[49m\u001b[43mhelp\u001b[49m\u001b[38;5;241;43m=\u001b[39;49m\u001b[38;5;124;43m'\u001b[39;49m\u001b[38;5;124;43mea,vis,tss\u001b[39;49m\u001b[38;5;124;43m'\u001b[39;49m\u001b[43m)\u001b[49m \u001b[38;5;66;03m## vis need 4 parameters,seta,setb,timea,timeb\u001b[39;00m\n\u001b[1;32m      3\u001b[0m                                                         \u001b[38;5;66;03m## enrichment analysis need 2, time and inputgenelist\u001b[39;00m\n\u001b[1;32m      4\u001b[0m                                                         \u001b[38;5;66;03m## tss need 6,seta, setb, endtime, directed_only, ignore_duplicates and aspect\u001b[39;00m\n\u001b[1;32m      5\u001b[0m parser\u001b[38;5;241m.\u001b[39madd_argument(\u001b[38;5;124m'\u001b[39m\u001b[38;5;124msave_path\u001b[39m\u001b[38;5;124m'\u001b[39m,\u001b[38;5;28mtype\u001b[39m\u001b[38;5;241m=\u001b[39m\u001b[38;5;28mstr\u001b[39m,help\u001b[38;5;241m=\u001b[39m\u001b[38;5;124m'\u001b[39m\u001b[38;5;124msave_path\u001b[39m\u001b[38;5;124m'\u001b[39m)\n",
      "File \u001b[0;32m/pypack/anaconda3/envs/pytorch/lib/python3.10/argparse.py:1409\u001b[0m, in \u001b[0;36m_ActionsContainer.add_argument\u001b[0;34m(self, *args, **kwargs)\u001b[0m\n\u001b[1;32m   1405\u001b[0m     kwargs \u001b[38;5;241m=\u001b[39m \u001b[38;5;28mself\u001b[39m\u001b[38;5;241m.\u001b[39m_get_positional_kwargs(\u001b[38;5;241m*\u001b[39margs, \u001b[38;5;241m*\u001b[39m\u001b[38;5;241m*\u001b[39mkwargs)\n\u001b[1;32m   1407\u001b[0m \u001b[38;5;66;03m# otherwise, we're adding an optional argument\u001b[39;00m\n\u001b[1;32m   1408\u001b[0m \u001b[38;5;28;01melse\u001b[39;00m:\n\u001b[0;32m-> 1409\u001b[0m     kwargs \u001b[38;5;241m=\u001b[39m \u001b[38;5;28;43mself\u001b[39;49m\u001b[38;5;241;43m.\u001b[39;49m\u001b[43m_get_optional_kwargs\u001b[49m\u001b[43m(\u001b[49m\u001b[38;5;241;43m*\u001b[39;49m\u001b[43margs\u001b[49m\u001b[43m,\u001b[49m\u001b[43m \u001b[49m\u001b[38;5;241;43m*\u001b[39;49m\u001b[38;5;241;43m*\u001b[39;49m\u001b[43mkwargs\u001b[49m\u001b[43m)\u001b[49m\n\u001b[1;32m   1411\u001b[0m \u001b[38;5;66;03m# if no default was supplied, use the parser-level default\u001b[39;00m\n\u001b[1;32m   1412\u001b[0m \u001b[38;5;28;01mif\u001b[39;00m \u001b[38;5;124m'\u001b[39m\u001b[38;5;124mdefault\u001b[39m\u001b[38;5;124m'\u001b[39m \u001b[38;5;129;01mnot\u001b[39;00m \u001b[38;5;129;01min\u001b[39;00m kwargs:\n",
      "File \u001b[0;32m/pypack/anaconda3/envs/pytorch/lib/python3.10/argparse.py:1544\u001b[0m, in \u001b[0;36m_ActionsContainer._get_optional_kwargs\u001b[0;34m(self, *args, **kwargs)\u001b[0m\n\u001b[1;32m   1540\u001b[0m     args \u001b[38;5;241m=\u001b[39m {\u001b[38;5;124m'\u001b[39m\u001b[38;5;124moption\u001b[39m\u001b[38;5;124m'\u001b[39m: option_string,\n\u001b[1;32m   1541\u001b[0m             \u001b[38;5;124m'\u001b[39m\u001b[38;5;124mprefix_chars\u001b[39m\u001b[38;5;124m'\u001b[39m: \u001b[38;5;28mself\u001b[39m\u001b[38;5;241m.\u001b[39mprefix_chars}\n\u001b[1;32m   1542\u001b[0m     msg \u001b[38;5;241m=\u001b[39m _(\u001b[38;5;124m'\u001b[39m\u001b[38;5;124minvalid option string \u001b[39m\u001b[38;5;132;01m%(option)r\u001b[39;00m\u001b[38;5;124m: \u001b[39m\u001b[38;5;124m'\u001b[39m\n\u001b[1;32m   1543\u001b[0m             \u001b[38;5;124m'\u001b[39m\u001b[38;5;124mmust start with a character \u001b[39m\u001b[38;5;132;01m%(prefix_chars)r\u001b[39;00m\u001b[38;5;124m'\u001b[39m)\n\u001b[0;32m-> 1544\u001b[0m     \u001b[38;5;28;01mraise\u001b[39;00m \u001b[38;5;167;01mValueError\u001b[39;00m(msg \u001b[38;5;241m%\u001b[39m args)\n\u001b[1;32m   1546\u001b[0m \u001b[38;5;66;03m# strings starting with two prefix characters are long options\u001b[39;00m\n\u001b[1;32m   1547\u001b[0m option_strings\u001b[38;5;241m.\u001b[39mappend(option_string)\n",
      "\u001b[0;31mValueError\u001b[0m: invalid option string 'type1': must start with a character '-'"
     ]
    }
   ],
   "source": [
    "parser=argparse.ArgumentParser()\n",
    "parser.add_argument('type1',type==str,help='ea,vis,tss') ## vis need 4 parameters,seta,setb,timea,timeb\n",
    "                                                        ## enrichment analysis need 2, time and inputgenelist\n",
    "                                                        ## tss need 6,seta, setb, endtime, directed_only, ignore_duplicates and aspect\n",
    "parser.add_argument('save_path',type=str,help='save_path')\n",
    "parser.add_argument('timea',type=str,help='time or endtime')\n",
    "parser.add_argument('lista',type=str,help='seta_path or gene list')\n",
    "parser.add_argument('--listb',type=str,help='setb_path')\n",
    "parser.add_argument('--timeb',type=str,help='timeb')\n",
    "parser.add_argument('--directed',type=str,default=True,help='directed only')\n",
    "parser.add_argument('--duplicates',type=str,default=False,help='ignore duplicates or not')\n",
    "parser.add_argument('--aspect',type=str,default='biological_process',help='aspect of gene ontology')\n",
    "args=parser.parse_args()"
   ]
  },
  {
   "cell_type": "code",
   "execution_count": 9,
   "id": "4011207f",
   "metadata": {},
   "outputs": [
    {
     "ename": "NameError",
     "evalue": "name 'args' is not defined",
     "output_type": "error",
     "traceback": [
      "\u001b[0;31m---------------------------------------------------------------------------\u001b[0m",
      "\u001b[0;31mNameError\u001b[0m                                 Traceback (most recent call last)",
      "Cell \u001b[0;32mIn[9], line 2\u001b[0m\n\u001b[1;32m      1\u001b[0m \u001b[38;5;28;01mif\u001b[39;00m \u001b[38;5;18m__name__\u001b[39m\u001b[38;5;241m==\u001b[39m\u001b[38;5;124m'\u001b[39m\u001b[38;5;124m__main__\u001b[39m\u001b[38;5;124m'\u001b[39m:\n\u001b[0;32m----> 2\u001b[0m     conduction\u001b[38;5;241m=\u001b[39m\u001b[43margs\u001b[49m\u001b[38;5;241m.\u001b[39mtype1\n\u001b[1;32m      3\u001b[0m     lista\u001b[38;5;241m=\u001b[39m[]\n\u001b[1;32m      4\u001b[0m     \u001b[38;5;28;01mwith\u001b[39;00m \u001b[38;5;28mopen\u001b[39m(args\u001b[38;5;241m.\u001b[39mlista) \u001b[38;5;28;01mas\u001b[39;00m f:\n",
      "\u001b[0;31mNameError\u001b[0m: name 'args' is not defined"
     ]
    }
   ],
   "source": [
    "if __name__=='__main__':\n",
    "    conduction=args.type1\n",
    "    lista=[]\n",
    "    with open(args.lista) as f:\n",
    "        for x in f.readlines():\n",
    "            lista.append(x.rstrip())     \n",
    "    if conduction=='ea':##conducting enrichment analysis\n",
    "        f1=enerich(args.timea)\n",
    "        f2=f1.enrichmentanalysis(lista)\n",
    "        f2.to_csv(args.save_path+'/ea.csv')\n",
    "    elif conduction=='vis':##visualization\n",
    "        listb=[]\n",
    "        with open(args.listb) as f:\n",
    "            for x in f.readlines():\n",
    "                listb.append(x.rstrip())  \n",
    "        f1=viz_to_root(lista,listb,args.timea,args.timeb)\n",
    "        f1.draw(args.save_path)\n",
    "    elif conduction=='tss':\n",
    "        listb=[]\n",
    "        with open(args.listb) as f:\n",
    "            for x in f.readlines():\n",
    "                listb.append(x.rstrip()) \n",
    "        f1=similarity(args.timea,directed_only=args.directed,ignore_duplicates=args.duplicates,aspect=args.aspect)\n",
    "        f2=f1.set_similarity(lista,listb)\n",
    "        print(f2)"
   ]
  }
 ],
 "metadata": {
  "kernelspec": {
   "display_name": "Python 3 (ipykernel)",
   "language": "python",
   "name": "python3"
  },
  "language_info": {
   "codemirror_mode": {
    "name": "ipython",
    "version": 3
   },
   "file_extension": ".py",
   "mimetype": "text/x-python",
   "name": "python",
   "nbconvert_exporter": "python",
   "pygments_lexer": "ipython3",
   "version": "3.10.9"
  }
 },
 "nbformat": 4,
 "nbformat_minor": 5
}
