{
 "cells": [
  {
   "cell_type": "code",
   "execution_count": 1,
   "id": "5ab9d53e",
   "metadata": {},
   "outputs": [],
   "source": [
    "from computing_similarity_modified import *"
   ]
  },
  {
   "cell_type": "code",
   "execution_count": 4,
   "id": "b621a528",
   "metadata": {},
   "outputs": [],
   "source": [
    "time1=corresponding_time('2017-10-01')\n",
    "time2=corresponding_time('2021-12-15')"
   ]
  },
  {
   "cell_type": "code",
   "execution_count": 5,
   "id": "28966544",
   "metadata": {},
   "outputs": [],
   "source": [
    "n1=network(time1[0],time1[1])\n",
    "n2=network(time2[0],time2[1])"
   ]
  },
  {
   "cell_type": "code",
   "execution_count": 6,
   "id": "fb2a5887",
   "metadata": {},
   "outputs": [],
   "source": [
    "i1=n1.information_content_value()\n",
    "i2=n2.information_content_value()"
   ]
  },
  {
   "cell_type": "code",
   "execution_count": 16,
   "id": "82017df6",
   "metadata": {},
   "outputs": [],
   "source": [
    "from scipy.stats import kstest\n",
    "import numpy as np"
   ]
  },
  {
   "cell_type": "code",
   "execution_count": 17,
   "id": "b40320c7",
   "metadata": {},
   "outputs": [
    {
     "name": "stdout",
     "output_type": "stream",
     "text": [
      "KstestResult(statistic=0.03919148534890726, pvalue=8.288570664593791e-20, statistic_location=1, statistic_sign=1)\n",
      "KstestResult(statistic=0.04400389873184252, pvalue=7.576994495454684e-10, statistic_location=1, statistic_sign=1)\n",
      "KstestResult(statistic=0.037890336434820454, pvalue=0.00494131298004852, statistic_location=3, statistic_sign=1)\n"
     ]
    }
   ],
   "source": [
    "for x in range(3):\n",
    "    value1=np.array(list(i1[x].values()))\n",
    "    value2=np.array(list(i2[x].values()))\n",
    "    print(kstest(value1,value2))"
   ]
  }
 ],
 "metadata": {
  "kernelspec": {
   "display_name": "Python 3 (ipykernel)",
   "language": "python",
   "name": "python3"
  },
  "language_info": {
   "codemirror_mode": {
    "name": "ipython",
    "version": 3
   },
   "file_extension": ".py",
   "mimetype": "text/x-python",
   "name": "python",
   "nbconvert_exporter": "python",
   "pygments_lexer": "ipython3",
   "version": "3.10.9"
  }
 },
 "nbformat": 4,
 "nbformat_minor": 5
}
